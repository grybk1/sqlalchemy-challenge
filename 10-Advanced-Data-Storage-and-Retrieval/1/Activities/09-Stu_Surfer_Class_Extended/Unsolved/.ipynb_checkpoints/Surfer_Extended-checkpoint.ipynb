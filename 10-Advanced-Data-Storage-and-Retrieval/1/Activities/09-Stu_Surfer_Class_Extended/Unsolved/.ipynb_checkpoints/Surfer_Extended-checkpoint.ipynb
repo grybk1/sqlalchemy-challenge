{
 "cells": [
  {
   "cell_type": "code",
   "execution_count": 40,
   "metadata": {},
   "outputs": [],
   "source": [
    "# Define the Surfer Class\n",
    "# Define the Surfer Class\n",
    "class Surfer():\n",
    "    \n",
    "    def __init__(self, name, hometown, rank, wipeouts ):\n",
    "        self.name=name\n",
    "        self.hometown=hometown\n",
    "        self.rank=rank\n",
    "        self.wipeouts=wipeouts\n",
    "    \n",
    "    \n",
    "    \n",
    "    \n",
    "    \n",
    "    \n",
    " #   def speak(self):\n",
    " #       print(\"Hang loose, bruh!\")\n",
    "    def speak(self):\n",
    "        print(\"Hang loose, bruh!\")\n",
    "  \n",
    "\n",
    "\n",
    "    def biography(self):\n",
    "        print(self.name, self.hometown) \n",
    "    \n",
    "    def cheer(self):\n",
    "        if self.wipeouts==0:\n",
    "            print(\"I totally rock man, no wipeouts!\")\n",
    "        else:\n",
    "            print(\"Bummer bruh, keep on keeping on!\")\n",
    "     \n",
    "         \n",
    "        \n",
    "        \n",
    "    "
   ]
  },
  {
   "cell_type": "code",
   "execution_count": 41,
   "metadata": {},
   "outputs": [],
   "source": [
    "# Create Surfers\n",
    "# --------------------------------------------------------------------------------\n",
    "mySurfer=Surfer(\"Gil\",\"Baltimore\",\"1\", \"2\")\n"
   ]
  },
  {
   "cell_type": "code",
   "execution_count": 42,
   "metadata": {},
   "outputs": [
    {
     "name": "stdout",
     "output_type": "stream",
     "text": [
      "Gil Baltimore\n"
     ]
    }
   ],
   "source": [
    "mySurfer.biography()"
   ]
  },
  {
   "cell_type": "code",
   "execution_count": 43,
   "metadata": {},
   "outputs": [
    {
     "name": "stdout",
     "output_type": "stream",
     "text": [
      "Hang loose, bruh!\n"
     ]
    }
   ],
   "source": [
    "mySurfer.speak()"
   ]
  },
  {
   "cell_type": "code",
   "execution_count": 44,
   "metadata": {},
   "outputs": [
    {
     "name": "stdout",
     "output_type": "stream",
     "text": [
      "Bummer bruh, keep on keeping on!\n"
     ]
    }
   ],
   "source": [
    "mySurfer.cheer()"
   ]
  },
  {
   "cell_type": "code",
   "execution_count": null,
   "metadata": {},
   "outputs": [],
   "source": []
  },
  {
   "cell_type": "code",
   "execution_count": null,
   "metadata": {},
   "outputs": [],
   "source": []
  }
 ],
 "metadata": {
  "kernelspec": {
   "display_name": "Python 3",
   "language": "python",
   "name": "python3"
  },
  "language_info": {
   "codemirror_mode": {
    "name": "ipython",
    "version": 3
   },
   "file_extension": ".py",
   "mimetype": "text/x-python",
   "name": "python",
   "nbconvert_exporter": "python",
   "pygments_lexer": "ipython3",
   "version": "3.6.9"
  },
  "varInspector": {
   "cols": {
    "lenName": 16,
    "lenType": 16,
    "lenVar": 40
   },
   "kernels_config": {
    "python": {
     "delete_cmd_postfix": "",
     "delete_cmd_prefix": "del ",
     "library": "var_list.py",
     "varRefreshCmd": "print(var_dic_list())"
    },
    "r": {
     "delete_cmd_postfix": ") ",
     "delete_cmd_prefix": "rm(",
     "library": "var_list.r",
     "varRefreshCmd": "cat(var_dic_list()) "
    }
   },
   "types_to_exclude": [
    "module",
    "function",
    "builtin_function_or_method",
    "instance",
    "_Feature"
   ],
   "window_display": false
  }
 },
 "nbformat": 4,
 "nbformat_minor": 2
}
