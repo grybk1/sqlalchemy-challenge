{
 "cells": [
  {
   "cell_type": "code",
   "execution_count": 1,
   "metadata": {},
   "outputs": [],
   "source": [
    "%matplotlib inline\n",
    "from matplotlib import style\n",
    "style.use('fivethirtyeight')\n",
    "import matplotlib.pyplot as plt"
   ]
  },
  {
   "cell_type": "code",
   "execution_count": 2,
   "metadata": {},
   "outputs": [],
   "source": [
    "import numpy as np\n",
    "import pandas as pd\n",
    "import json\n",
    "from flask import Flask, jsonify\n",
    "import datetime as dt\n",
    "from datetime import timedelta"
   ]
  },
  {
   "cell_type": "markdown",
   "metadata": {},
   "source": [
    "# Reflect Tables into SQLAlchemy ORM"
   ]
  },
  {
   "cell_type": "code",
   "execution_count": 3,
   "metadata": {},
   "outputs": [],
   "source": [
    "# Python SQL toolkit and Object Relational Mapper\n",
    "import sqlalchemy\n",
    "from sqlalchemy.ext.automap import automap_base\n",
    "from sqlalchemy.orm import Session\n",
    "from sqlalchemy import create_engine, func"
   ]
  },
  {
   "cell_type": "code",
   "execution_count": 4,
   "metadata": {},
   "outputs": [],
   "source": [
    "engine = create_engine(\"sqlite:///Resources/hawaii.sqlite\" ,connect_args={'check_same_thread': False})"
   ]
  },
  {
   "cell_type": "code",
   "execution_count": 5,
   "metadata": {},
   "outputs": [],
   "source": [
    "# reflect an existing database into a new model\n",
    "Base = automap_base()\n",
    "# reflect the tables\n",
    "Base.prepare(engine, reflect=True)"
   ]
  },
  {
   "cell_type": "code",
   "execution_count": 6,
   "metadata": {},
   "outputs": [
    {
     "data": {
      "text/plain": [
       "['measurement', 'station']"
      ]
     },
     "execution_count": 6,
     "metadata": {},
     "output_type": "execute_result"
    }
   ],
   "source": [
    "# We can view all of the classes that automap found\n",
    "Base.classes.keys()"
   ]
  },
  {
   "cell_type": "code",
   "execution_count": 7,
   "metadata": {},
   "outputs": [],
   "source": [
    "# Save references to each table\n",
    "Measurement = Base.classes.measurement\n",
    "Station = Base.classes.station"
   ]
  },
  {
   "cell_type": "code",
   "execution_count": 8,
   "metadata": {},
   "outputs": [],
   "source": [
    "# Create our session (link) from Python to the DB\n",
    "session = Session(engine)"
   ]
  },
  {
   "cell_type": "markdown",
   "metadata": {},
   "source": [
    "### Precipitation Analysis"
   ]
  },
  {
   "cell_type": "code",
   "execution_count": 9,
   "metadata": {},
   "outputs": [],
   "source": [
    "# Design a query to retrieve the last 12 months of precipitation data and plot the results\n",
    "\n",
    "# Calculate the date 1 year ago from the last data point in the database\n",
    "\n",
    "# Perform a query to retrieve the data and precipitation scores\n",
    "\n",
    "# Save the query results as a Pandas DataFrame and set the index to the date column\n",
    "\n",
    "# Sort the dataframe by date\n",
    "\n",
    "# Use Pandas Plotting with Matplotlib to plot the data\n"
   ]
  },
  {
   "cell_type": "code",
   "execution_count": 10,
   "metadata": {},
   "outputs": [
    {
     "data": {
      "text/plain": [
       "datetime.date(2016, 8, 23)"
      ]
     },
     "execution_count": 10,
     "metadata": {},
     "output_type": "execute_result"
    }
   ],
   "source": [
    "# Determine available date ranges\n",
    "maxDate=session.query(Measurement).value(func.max(Measurement.date))\n",
    "maxDate_date = dt.datetime.strptime(maxDate, '%Y-%m-%d').date()\n",
    "#print(type(maxDate_date))\n",
    "maxDate_date\n",
    "maxDate_date - timedelta(days=365)\n"
   ]
  },
  {
   "cell_type": "code",
   "execution_count": 11,
   "metadata": {},
   "outputs": [],
   "source": [
    "# Design a query to retrieve the last 12 months of precipitation data and plot the results\n",
    "filtered_data=session.query(Measurement.date, Measurement.prcp)\\\n",
    ".filter(Measurement.date>=maxDate_date - timedelta(days=365))\\\n",
    ".filter(Measurement.date<=maxDate_date)\\\n",
    ".filter(Measurement.prcp!='None').order_by(Measurement.date)"
   ]
  },
  {
   "cell_type": "code",
   "execution_count": 12,
   "metadata": {},
   "outputs": [
    {
     "data": {
      "text/plain": [
       "<matplotlib.axes._subplots.AxesSubplot at 0x99cac48>"
      ]
     },
     "execution_count": 12,
     "metadata": {},
     "output_type": "execute_result"
    },
    {
     "data": {
      "image/png": "[encoded data removed]",
      "text/plain": [
       "<Figure size 432x288 with 1 Axes>"
      ]
     },
     "metadata": {
      "needs_background": "light"
     },
     "output_type": "display_data"
    }
   ],
   "source": [
    "#Plot the results\n",
    "filtered_data_df=pd.DataFrame(filtered_data)\n",
    "filtered_data_df2=filtered_data_df.set_index('date')\n",
    "filtered_data_df2.plot(rot=90)"
   ]
  },
  {
   "cell_type": "code",
   "execution_count": 13,
   "metadata": {},
   "outputs": [
    {
     "data": {
      "text/html": [
       "<div>\n",
       "<style scoped>\n",
       "    .dataframe tbody tr th:only-of-type {\n",
       "        vertical-align: middle;\n",
       "    }\n",
       "\n",
       "    .dataframe tbody tr th {\n",
       "        vertical-align: top;\n",
       "    }\n",
       "\n",
       "    .dataframe thead th {\n",
       "        text-align: right;\n",
       "    }\n",
       "</style>\n",
       "<table border=\"1\" class=\"dataframe\">\n",
       "  <thead>\n",
       "    <tr style=\"text-align: right;\">\n",
       "      <th></th>\n",
       "      <th>prcp</th>\n",
       "    </tr>\n",
       "  </thead>\n",
       "  <tbody>\n",
       "    <tr>\n",
       "      <td>count</td>\n",
       "      <td>2021.000000</td>\n",
       "    </tr>\n",
       "    <tr>\n",
       "      <td>mean</td>\n",
       "      <td>0.177279</td>\n",
       "    </tr>\n",
       "    <tr>\n",
       "      <td>std</td>\n",
       "      <td>0.461190</td>\n",
       "    </tr>\n",
       "    <tr>\n",
       "      <td>min</td>\n",
       "      <td>0.000000</td>\n",
       "    </tr>\n",
       "    <tr>\n",
       "      <td>25%</td>\n",
       "      <td>0.000000</td>\n",
       "    </tr>\n",
       "    <tr>\n",
       "      <td>50%</td>\n",
       "      <td>0.020000</td>\n",
       "    </tr>\n",
       "    <tr>\n",
       "      <td>75%</td>\n",
       "      <td>0.130000</td>\n",
       "    </tr>\n",
       "    <tr>\n",
       "      <td>max</td>\n",
       "      <td>6.700000</td>\n",
       "    </tr>\n",
       "  </tbody>\n",
       "</table>\n",
       "</div>"
      ],
      "text/plain": [
       "              prcp\n",
       "count  2021.000000\n",
       "mean      0.177279\n",
       "std       0.461190\n",
       "min       0.000000\n",
       "25%       0.000000\n",
       "50%       0.020000\n",
       "75%       0.130000\n",
       "max       6.700000"
      ]
     },
     "execution_count": 13,
     "metadata": {},
     "output_type": "execute_result"
    }
   ],
   "source": [
    "#Use Pandas to print the summary statistics for the precipitation data.\n",
    "filtered_data_df2.describe()"
   ]
  },
  {
   "cell_type": "markdown",
   "metadata": {},
   "source": [
    "### Station Analysis"
   ]
  },
  {
   "cell_type": "code",
   "execution_count": 14,
   "metadata": {},
   "outputs": [
    {
     "name": "stdout",
     "output_type": "stream",
     "text": [
      "9\n"
     ]
    }
   ],
   "source": [
    "# Design a query to show how many stations are available in this dataset?\n",
    "stationCount=session.query(Station.station).count()\n",
    "print(stationCount) "
   ]
  },
  {
   "cell_type": "code",
   "execution_count": 15,
   "metadata": {},
   "outputs": [
    {
     "name": "stdout",
     "output_type": "stream",
     "text": [
      "('USC00519281', 2772)\n",
      "('USC00519397', 2724)\n",
      "('USC00513117', 2709)\n",
      "('USC00519523', 2669)\n",
      "('USC00516128', 2612)\n",
      "('USC00514830', 2202)\n",
      "('USC00511918', 1979)\n",
      "('USC00517948', 1372)\n",
      "('USC00518838', 511)\n"
     ]
    }
   ],
   "source": [
    "# What are the most active stations? (i.e. what stations have the most rows)?\n",
    "# List the stations and the counts in descending order.\n",
    "stationList=session.query(Measurement.station, func.count(Measurement.station)).group_by(Measurement.station).order_by(\n",
    "    func.count(Measurement.station).desc()).all()\n",
    "for x in stationList:\n",
    "    print(x)"
   ]
  },
  {
   "cell_type": "code",
   "execution_count": 16,
   "metadata": {},
   "outputs": [
    {
     "data": {
      "text/plain": [
       "('USC00519281', 2772)"
      ]
     },
     "execution_count": 16,
     "metadata": {},
     "output_type": "execute_result"
    }
   ],
   "source": [
    "#which station has the highest number of observations?\n",
    "stationList[0]"
   ]
  },
  {
   "cell_type": "code",
   "execution_count": 17,
   "metadata": {},
   "outputs": [
    {
     "name": "stdout",
     "output_type": "stream",
     "text": [
      "54.0 85.0 71.66378066378067\n"
     ]
    }
   ],
   "source": [
    "# Using the station id from the previous query, calculate the lowest temperature recorded, \n",
    "# highest temperature recorded, and average temperature of the most active station?\n",
    "maxTobs=session.query(Measurement).filter(Measurement.station=='USC00519281').value(func.max(Measurement.tobs))\n",
    "maxTobs\n",
    "minTobs=session.query(Measurement).filter(Measurement.station=='USC00519281').value(func.min(Measurement.tobs))\n",
    "minTobs\n",
    "avgTobs=session.query(Measurement).filter(Measurement.station=='USC00519281').value(func.avg(Measurement.tobs))\n",
    "avgTobs\n",
    "\n",
    "print(minTobs, maxTobs, avgTobs)"
   ]
  },
  {
   "cell_type": "code",
   "execution_count": 18,
   "metadata": {},
   "outputs": [
    {
     "data": {
      "text/plain": [
       "<matplotlib.axes._subplots.AxesSubplot at 0x86819c8>"
      ]
     },
     "execution_count": 18,
     "metadata": {},
     "output_type": "execute_result"
    },
    {
     "data": {
      "image/png": "[encoded data removed]",
      "text/plain": [
       "<Figure size 432x288 with 1 Axes>"
      ]
     },
     "metadata": {
      "needs_background": "light"
     },
     "output_type": "display_data"
    }
   ],
   "source": [
    "# Design a query to retrieve the last 12 months of temperature observation data (tobs).\n",
    "# Choose the station with the highest number of temperature observations.\n",
    "# Query the last 12 months of temperature observation data for this station and plot the results as a histogram\n",
    "filtered_tobs=session.query(Measurement.tobs)\\\n",
    ".filter(Measurement.date>maxDate_date - timedelta(days=365))\\\n",
    ".filter(Measurement.date<=maxDate_date)\\\n",
    ".filter(Measurement.station=='USC00519281')\n",
    "filtered_tobs_df=pd.DataFrame(filtered_tobs)\n",
    "filtered_tobs_df.plot.hist(bins=12)"
   ]
  },
  {
   "cell_type": "markdown",
   "metadata": {},
   "source": [
    "## Step 2 - Climate App"
   ]
  },
  {
   "cell_type": "markdown",
   "metadata": {},
   "source": [
    "### Routes"
   ]
  },
  {
   "cell_type": "code",
   "execution_count": null,
   "metadata": {},
   "outputs": [
    {
     "name": "stdout",
     "output_type": "stream",
     "text": [
      " * Serving Flask app \"__main__\" (lazy loading)\n",
      " * Environment: production\n",
      "   WARNING: This is a development server. Do not use it in a production deployment.\n",
      "   Use a production WSGI server instead.\n",
      " * Debug mode: off\n"
     ]
    },
    {
     "name": "stderr",
     "output_type": "stream",
     "text": [
      " * Running on http://127.0.0.1:5000/ (Press CTRL+C to quit)\n",
      "127.0.0.1 - - [15/Feb/2020 16:18:03] \"GET / HTTP/1.1\" 200 -\n",
      "127.0.0.1 - - [15/Feb/2020 16:18:15] \"GET /api/v1.0/precipitation HTTP/1.1\" 200 -\n",
      "127.0.0.1 - - [15/Feb/2020 16:18:19] \"GET /api/v1.0/stations HTTP/1.1\" 200 -\n",
      "127.0.0.1 - - [15/Feb/2020 16:18:24] \"GET /api/v1.0/tobs HTTP/1.1\" 200 -\n",
      "127.0.0.1 - - [15/Feb/2020 16:18:52] \"GET /api/v1.0/precipitation HTTP/1.1\" 200 -\n"
     ]
    }
   ],
   "source": [
    "#Flask Work\n",
    "\n",
    "#function for get temp stats\n",
    "def tempStats(minDate, maxDate=dt.datetime.now()):\n",
    "    minTobs=session.query(Measurement.date, Measurement.tobs).filter(Measurement.date>=minDate).filter(Measurement.date<=maxDate).value(func.min(Measurement.tobs))\n",
    "    maxTobs=session.query(Measurement.date, Measurement.tobs).filter(Measurement.date>=minDate).filter(Measurement.date<=maxDate).value(func.max(Measurement.tobs))\n",
    "    avgTobs=session.query(Measurement.date, Measurement.tobs).filter(Measurement.date>=minDate).filter(Measurement.date<=maxDate).value(func.avg(Measurement.tobs))\n",
    "    json_string='{\"minTobs\":'+str(minTobs)+',\"aveTobs\":'+str(f'{avgTobs:.2f}')+',\"maxTobs\":'+str(maxTobs)+'}'\n",
    "    #print (minTobs,avgTobs,maxTobs)\n",
    "    return json_string   \n",
    " \n",
    "    \n",
    "\n",
    "# 2. Create an app\n",
    "app = Flask(__name__)\n",
    "# 3. Define static routes\n",
    "@app.route(\"/\")\n",
    "def index():\n",
    "      routes='''\n",
    "      <p>\n",
    "      API end points for gathering weather statistical data.  \n",
    "      </p>\n",
    "      Routes:\n",
    "            <ul>\n",
    "            <li><a href=\"/api/v1.0/precipitation\">/api/v1.0/precipitation</a>\n",
    "            <li><a href=\"/api/v1.0/stations\">/api/v1.0/stations</a>\n",
    "            <li><a href=\"/api/v1.0/tobs\">/api/v1.0/tobs</a>\n",
    "            <li>/api/v1.0/&ltstartDate&gt\n",
    "            <li>/api/v1.0/&ltstartDate&gt/&ltendDate&gt\n",
    "            </ul>'''   \n",
    "      return routes\n",
    "\n",
    "\n",
    "@app.route(\"/about\")\n",
    "def about():\n",
    "    myResponse = \"about\"\n",
    "    return myResponse\n",
    "\n",
    "\n",
    "@app.route(\"/api/v1.0/precipitation\")\n",
    "def precipitation():\n",
    "    myResponse=filtered_data_df2.to_dict()\n",
    "    return jsonify(myResponse)\n",
    "\n",
    "\n",
    "@app.route(\"/api/v1.0/stations\")\n",
    "def stations():\n",
    "    station_data=session.query(Station.id,Station.station)\n",
    "    station_list=[]\n",
    "    for x in station_data:\n",
    "        station_list.append(x.station)\n",
    "    my_json_string ='{\"stations\" : '\n",
    "    my_json_string = my_json_string +json.dumps(station_list)  +'}' \n",
    "    myResponse=my_json_string\n",
    "    return myResponse\n",
    "\n",
    "\n",
    "@app.route(\"/api/v1.0/tobs\")\n",
    "def tobs():\n",
    "    filtered_tobs=session.query(Measurement.date, Measurement.tobs)\\\n",
    "    .filter(Measurement.date>maxDate_date - timedelta(days=365))\\\n",
    "    .filter(Measurement.date<=maxDate_date)\\\n",
    "    .filter(Measurement.station=='USC00519281').order_by(Measurement.date)\n",
    "    myfiltered_df=pd.DataFrame(filtered_tobs)\n",
    "    myfiltered_df=myfiltered_df.set_index('date')\n",
    "    myResponse = myfiltered_df.to_dict()\n",
    "    return jsonify(myResponse)\n",
    "\n",
    "\n",
    "@app.route(\"/api/v1.0/<start>\")\n",
    "def start(start):\n",
    "    json_string=tempStats(start)\n",
    "    return json_string\n",
    "    #return jsonify(start)\n",
    "\n",
    "    \n",
    "@app.route(\"/api/v1.0/<start>/<end>\")\n",
    "def startEnd(start,end):\n",
    "    json_string=tempStats(start,end)\n",
    "    return json_string\n",
    "  \n",
    "\n",
    "\n",
    "# 4. Define main behavior\n",
    "if __name__ == \"__main__\":\n",
    "       app.run()\n",
    "    #    app.run(debug=True)"
   ]
  }
 ],
 "metadata": {
  "kernel_info": {
   "name": "python3"
  },
  "kernelspec": {
   "display_name": "Python 3",
   "language": "python",
   "name": "python3"
  },
  "language_info": {
   "codemirror_mode": {
    "name": "ipython",
    "version": 3
   },
   "file_extension": ".py",
   "mimetype": "text/x-python",
   "name": "python",
   "nbconvert_exporter": "python",
   "pygments_lexer": "ipython3",
   "version": "3.7.4"
  },
  "nteract": {
   "version": "0.12.3"
  },
  "varInspector": {
   "cols": {
    "lenName": 16,
    "lenType": 16,
    "lenVar": 40
   },
   "kernels_config": {
    "python": {
     "delete_cmd_postfix": "",
     "delete_cmd_prefix": "del ",
     "library": "var_list.py",
     "varRefreshCmd": "print(var_dic_list())"
    },
    "r": {
     "delete_cmd_postfix": ") ",
     "delete_cmd_prefix": "rm(",
     "library": "var_list.r",
     "varRefreshCmd": "cat(var_dic_list()) "
    }
   },
   "types_to_exclude": [
    "module",
    "function",
    "builtin_function_or_method",
    "instance",
    "_Feature"
   ],
   "window_display": false
  }
 },
 "nbformat": 4,
 "nbformat_minor": 2
}
